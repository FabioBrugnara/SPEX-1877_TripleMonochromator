{
 "cells": [
  {
   "cell_type": "code",
   "execution_count": 358,
   "metadata": {},
   "outputs": [
    {
     "name": "stdout",
     "output_type": "stream",
     "text": [
      "Trying /dev/ttyUSB1 ...\n",
      "-------------------------------------------\n",
      "Connected to the spex motor controller!\n",
      "port:  /dev/ttyUSB1\n",
      "description:  USB Serial\n",
      "-------------------------------------------\n"
     ]
    }
   ],
   "source": [
    "import spex_motors_driver as spex\n",
    "\n",
    "motors = spex.connect_motors()"
   ]
  },
  {
   "cell_type": "code",
   "execution_count": 294,
   "metadata": {},
   "outputs": [
    {
     "name": "stdout",
     "output_type": "stream",
     "text": [
      "->  spec read_pos\n",
      "<-  spec read_pos\n",
      "<-  -5775\n",
      "<-  ok\n"
     ]
    },
    {
     "data": {
      "text/plain": [
       "(-5775, 0)"
      ]
     },
     "execution_count": 294,
     "metadata": {},
     "output_type": "execute_result"
    }
   ],
   "source": [
    "motors.read_pos('spec')"
   ]
  },
  {
   "cell_type": "code",
   "execution_count": 438,
   "metadata": {},
   "outputs": [
    {
     "name": "stdout",
     "output_type": "stream",
     "text": [
      "->  filter jump 2000\n",
      "<-  filter jump 2000\n",
      "<-  2400\n",
      "<-  ok\n"
     ]
    },
    {
     "data": {
      "text/plain": [
       "(2400, 0)"
      ]
     },
     "execution_count": 438,
     "metadata": {},
     "output_type": "execute_result"
    }
   ],
   "source": [
    "motors.jump('filter', 2000)"
   ]
  },
  {
   "cell_type": "code",
   "execution_count": 273,
   "metadata": {},
   "outputs": [
    {
     "name": "stdout",
     "output_type": "stream",
     "text": [
      "->  spec read_pos\n",
      "<-  spec read_pos\n",
      "<-  -2146\n",
      "<-  error: clockwise limit reached\n"
     ]
    },
    {
     "data": {
      "text/plain": [
       "(-2146, 1)"
      ]
     },
     "execution_count": 273,
     "metadata": {},
     "output_type": "execute_result"
    }
   ],
   "source": [
    "motors.read_pos('spec')"
   ]
  }
 ],
 "metadata": {
  "kernelspec": {
   "display_name": "sci_env",
   "language": "python",
   "name": "python3"
  },
  "language_info": {
   "codemirror_mode": {
    "name": "ipython",
    "version": 3
   },
   "file_extension": ".py",
   "mimetype": "text/x-python",
   "name": "python",
   "nbconvert_exporter": "python",
   "pygments_lexer": "ipython3",
   "version": "3.10.8 (main, Nov  4 2022, 13:48:29) [GCC 11.2.0]"
  },
  "orig_nbformat": 4,
  "vscode": {
   "interpreter": {
    "hash": "8c0663e8c80c303db1e5423fd2dadf8d387c415cc8ac9729ae7f5087c16c77b6"
   }
  }
 },
 "nbformat": 4,
 "nbformat_minor": 2
}
