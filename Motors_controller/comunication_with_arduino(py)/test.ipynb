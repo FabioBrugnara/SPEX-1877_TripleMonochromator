{
 "cells": [
  {
   "cell_type": "code",
   "execution_count": 1,
   "metadata": {},
   "outputs": [
    {
     "name": "stdout",
     "output_type": "stream",
     "text": [
      "Trying /dev/ttyUSB1 ...\n",
      "-------------------------------------------\n",
      "Connected to the spex motor controller!\n",
      "port:  /dev/ttyUSB1\n",
      "description:  USB Serial\n",
      "-------------------------------------------\n"
     ]
    }
   ],
   "source": [
    "import spex_control as spex\n",
    "\n",
    "motors = spex.connect_motors()"
   ]
  },
  {
   "cell_type": "code",
   "execution_count": 29,
   "metadata": {},
   "outputs": [
    {
     "name": "stdout",
     "output_type": "stream",
     "text": [
      "CPU times: user 1.36 ms, sys: 96 µs, total: 1.46 ms\n",
      "Wall time: 3.79 ms\n"
     ]
    },
    {
     "data": {
      "text/plain": [
       "0"
      ]
     },
     "execution_count": 29,
     "metadata": {},
     "output_type": "execute_result"
    }
   ],
   "source": [
    "%time motors.status(verbose=False)"
   ]
  },
  {
   "cell_type": "code",
   "execution_count": 31,
   "metadata": {},
   "outputs": [
    {
     "name": "stdout",
     "output_type": "stream",
     "text": [
      "->  spec goto 700\n",
      "<-  spec goto 700\n",
      "<-  700\n",
      "<-  ok\n"
     ]
    },
    {
     "data": {
      "text/plain": [
       "(700, 0)"
      ]
     },
     "execution_count": 31,
     "metadata": {},
     "output_type": "execute_result"
    }
   ],
   "source": [
    "motors.goto('spec', 700)"
   ]
  },
  {
   "cell_type": "code",
   "execution_count": 38,
   "metadata": {},
   "outputs": [
    {
     "name": "stdout",
     "output_type": "stream",
     "text": [
      "->  spec read_pos\n",
      "<-  spec read_pos\n",
      "<-  700\n",
      "<-  error: clockwise limit reached\n"
     ]
    },
    {
     "data": {
      "text/plain": [
       "(700, 1)"
      ]
     },
     "execution_count": 38,
     "metadata": {},
     "output_type": "execute_result"
    }
   ],
   "source": [
    "motors.read_pos('spec')"
   ]
  }
 ],
 "metadata": {
  "kernelspec": {
   "display_name": "sci_env",
   "language": "python",
   "name": "python3"
  },
  "language_info": {
   "codemirror_mode": {
    "name": "ipython",
    "version": 3
   },
   "file_extension": ".py",
   "mimetype": "text/x-python",
   "name": "python",
   "nbconvert_exporter": "python",
   "pygments_lexer": "ipython3",
   "version": "3.10.8"
  },
  "orig_nbformat": 4,
  "vscode": {
   "interpreter": {
    "hash": "8c0663e8c80c303db1e5423fd2dadf8d387c415cc8ac9729ae7f5087c16c77b6"
   }
  }
 },
 "nbformat": 4,
 "nbformat_minor": 2
}
