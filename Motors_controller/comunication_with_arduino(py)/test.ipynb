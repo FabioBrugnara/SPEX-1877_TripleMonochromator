{
 "cells": [
  {
   "cell_type": "code",
   "execution_count": 1,
   "metadata": {},
   "outputs": [
    {
     "name": "stdout",
     "output_type": "stream",
     "text": [
      "Trying /dev/ttyUSB1 ...\n",
      "-------------------------------------------\n",
      "Connected to the spex motor controller!\n",
      "port:  /dev/ttyUSB1\n",
      "description:  USB Serial\n",
      "-------------------------------------------\n"
     ]
    }
   ],
   "source": [
    "import spex_control as spex\n",
    "\n",
    "motors = spex.connect_motors()"
   ]
  },
  {
   "cell_type": "code",
   "execution_count": 70,
   "metadata": {},
   "outputs": [
    {
     "name": "stdout",
     "output_type": "stream",
     "text": [
      "CPU times: user 720 µs, sys: 944 µs, total: 1.66 ms\n",
      "Wall time: 3.73 ms\n"
     ]
    },
    {
     "data": {
      "text/plain": [
       "0"
      ]
     },
     "execution_count": 70,
     "metadata": {},
     "output_type": "execute_result"
    }
   ],
   "source": [
    "%time motors.status(verbose=False)"
   ]
  },
  {
   "cell_type": "code",
   "execution_count": 76,
   "metadata": {},
   "outputs": [
    {
     "name": "stdout",
     "output_type": "stream",
     "text": [
      "->  spec goto 700\n",
      "<-  spec goto 700\n",
      "<-  700\n",
      "<-  ok\n",
      "->  filter goto 1\n",
      "<-  filter goto 1\n",
      "<-  1\n",
      "<-  ok\n"
     ]
    },
    {
     "data": {
      "text/plain": [
       "(1, 0)"
      ]
     },
     "execution_count": 76,
     "metadata": {},
     "output_type": "execute_result"
    }
   ],
   "source": [
    "motors.goto('spec', 700)\n",
    "motors.goto('filter', 1)"
   ]
  },
  {
   "cell_type": "code",
   "execution_count": 78,
   "metadata": {},
   "outputs": [
    {
     "name": "stdout",
     "output_type": "stream",
     "text": [
      "->  filter read_pos\n",
      "<-  filter read_pos\n",
      "<-  1\n",
      "<-  error: counter-clockwise limit reached\n"
     ]
    },
    {
     "data": {
      "text/plain": [
       "(1, -1)"
      ]
     },
     "execution_count": 78,
     "metadata": {},
     "output_type": "execute_result"
    }
   ],
   "source": [
    "motors.read_pos('filter')"
   ]
  }
 ],
 "metadata": {
  "kernelspec": {
   "display_name": "sci_env",
   "language": "python",
   "name": "python3"
  },
  "language_info": {
   "codemirror_mode": {
    "name": "ipython",
    "version": 3
   },
   "file_extension": ".py",
   "mimetype": "text/x-python",
   "name": "python",
   "nbconvert_exporter": "python",
   "pygments_lexer": "ipython3",
   "version": "3.10.8"
  },
  "orig_nbformat": 4,
  "vscode": {
   "interpreter": {
    "hash": "8c0663e8c80c303db1e5423fd2dadf8d387c415cc8ac9729ae7f5087c16c77b6"
   }
  }
 },
 "nbformat": 4,
 "nbformat_minor": 2
}
